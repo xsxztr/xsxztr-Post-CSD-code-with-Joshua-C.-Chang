{
 "cells": [
  {
   "cell_type": "code",
   "execution_count": 1,
   "metadata": {},
   "outputs": [],
   "source": [
    "from sympy import *\n",
    "from sympy.solvers.solveset import linsolve\n",
    "init_printing()\n",
    "import numpy as np\n",
    "t, T, epsilon = symbols('t T epsilon')\n",
    "\n",
    "def Fun_t(f):\n",
    "    return Function(f)(t)\n",
    "\n",
    "def Fun_T(f):\n",
    "    return Function(f)(T)"
   ]
  },
  {
   "cell_type": "markdown",
   "metadata": {},
   "source": [
    "# Inner expansion"
   ]
  },
  {
   "cell_type": "code",
   "execution_count": 2,
   "metadata": {},
   "outputs": [],
   "source": [
    "iR20,  iR21, iR22, iQ20, iQ21, iQ22 = map(Fun_T,['\\\\tilde{R}_2^{(0)}', '\\\\tilde{R}_2^{(1)}', '\\\\tilde{R}_2^{(2)}', '\\\\tilde{Q}_2^{(0)}', '\\\\tilde{Q}_2^{(1)}', '\\\\tilde{Q}_2^{(2)}'])\n",
    "iR2 = iR20 + epsilon*iR21 + epsilon**2*iR22 +Order(epsilon**3)\n",
    "iQ2 = iQ20 + epsilon*iQ21 + epsilon**2*iQ22 +Order(epsilon**3)\n",
    "\n",
    "iR30,  iR31, iR32, iQ40, iQ41, iQ42 = map(Fun_T,['\\\\tilde{R}_3^{(0)}', '\\\\tilde{R}_3^{(1)}', '\\\\tilde{R}_3^{(2)}', '\\\\tilde{Q}_4^{(0)}', '\\\\tilde{Q}_4^{(1)}', '\\\\tilde{Q}_4^{(2)}'])\n",
    "iR3 = iR30 + epsilon*iR31 + epsilon**2*iR32 +Order(epsilon**3)\n",
    "iQ4 = iQ40 + epsilon*iQ41 + epsilon**2*iQ42 +Order(epsilon**3)\n",
    "\n",
    "\n",
    "# actually the rate constants are slowly varying relative to Q on this time scale (should be constants)\n",
    "iq1p, iq1m, iq20p, iq20m, iq3p, iq3m, iq40p, iq40m, iq5p, iq5m =  map(Fun_T,['q_1^+', 'q_1^-', 'q_{20}^+', 'q_{20}^-', 'q_3^+', 'q_3^-', 'q_{40}^+', 'q_{40}^-', 'q_5^+', 'q_5^-'])\n",
    "\n",
    "\n",
    "\n"
   ]
  },
  {
   "cell_type": "markdown",
   "metadata": {},
   "source": [
    "## Inner ODEs\n",
    "\n",
    "Consider the initial value problem for $t-t_0 \\leq \\mathcal{O}(\\varepsilon)$. Let $T=(t-t_0)/\\varepsilon = \\mathcal{O}(1)$.\n",
    "\n",
    "\\begin{align}\n",
    "        \\frac{d \\widetilde{R}_2}{d T} & = \\varepsilon\\left(q_1^+(1-\\widetilde{R}_2-\\widetilde{R}_3) + q_3^- \\widetilde{Q}_4 + (q_3^+ - q_1^-)\\widetilde{Q}_2 - q_3^+ \\widetilde{R}_2\\right) \\label{eq:diR2dT} \\\\\n",
    "        \\frac{d \\widetilde{R}_3}{d T} & = \\varepsilon\\left(q_3^+(\\widetilde{R}_2-\\widetilde{Q}_2) + q_5^- (1-\\widetilde{R}_2-\\widetilde{R}_3)  -q_5^+ \\widetilde{R}_3 + (q_5^+- q_3^-) \\widetilde{Q}_4\\right) \\label{eq:diR4dT} \\\\\n",
    "        \\frac{d \\widetilde{Q}_2}{d T} &= q_{20}^- (\\widetilde{R}_2-\\widetilde{Q}_2) - q_{20}^+Q_2 + \\varepsilon\\left(q_1^+ (1-\\widetilde{R}_2-\\widetilde{R}_3) - q_1^- \\widetilde{Q}_2\\right) \\label{eq:diQ2dT}\\\\\n",
    "        \\frac{d \\widetilde{Q}_4}{d T} &= -q_{40}^+ \\widetilde{Q}_4 + q_{40}^- (\\widetilde{R}_3-\\widetilde{Q}_4) + \\varepsilon \\left(q_3^+ (\\widetilde{R}_2-\\widetilde{Q}_2) - q_3^- \\widetilde{Q}_4\\right).  \n",
    "    \\label{eq:diQ4dT}\n",
    "    \\end{align}"
   ]
  },
  {
   "cell_type": "code",
   "execution_count": 3,
   "metadata": {},
   "outputs": [],
   "source": [
    "diR2_dT = iR2.diff(T)\n",
    "diR2dT_expr = -diR2_dT + epsilon*(iq1p *(1-iR2-iR3) + iq3m*iQ4 + (iq3p-iq1m)*iQ2 - iq3p*iR2)\n",
    "diR3_dT = iR3.diff(T)\n",
    "diR3dT_expr = -diR3_dT + epsilon*(iq3p*(iR2-iQ2) + iq5m*(1-iR2-iR3)-iq5p*iR3 + (iq5p-iq3m)*iQ4)\n",
    "diQ2_dT = iQ2.diff(T)\n",
    "diQ2_dT_expr = -diQ2_dT + iq20m*(iR2-iQ2)-iq20p*iQ2 + epsilon*(iq1m*(1-iR2-iR3)-iq1m*iQ2)\n",
    "diQ4_dT = iQ4.diff(T)\n",
    "diQ4_dT_expr = -diQ4_dT + -iq40p*iQ4 + iq40m*(iR3-iQ4) + epsilon*(iq3p*(iR2-iQ2)-iq3m*iQ4)\n",
    "\n",
    "diR2_dT_by_order = diR2dT_expr.expand().collect(epsilon,evaluate=False)\n",
    "diR3_dT_by_order = diR3dT_expr.expand().collect(epsilon,evaluate=False)\n",
    "diQ2_dT_by_order = diQ2_dT_expr.expand().collect(epsilon,evaluate=False)\n",
    "diQ4_dT_by_order = diQ4_dT_expr.expand().collect(epsilon,evaluate=False)\n",
    "\n",
    "\n"
   ]
  },
  {
   "cell_type": "code",
   "execution_count": 4,
   "metadata": {},
   "outputs": [
    {
     "data": {
      "image/png": "[encoded data removed]",
      "text/latex": [
       "$$- \\frac{d}{d T} \\tilde{R}_2^{(0)}{\\left (T \\right )}$$"
      ],
      "text/plain": [
       " d                        \n",
       "-──(\\tilde{R}_2__{(0)}(T))\n",
       " dT                       "
      ]
     },
     "execution_count": 4,
     "metadata": {},
     "output_type": "execute_result"
    }
   ],
   "source": [
    "diR2_dT_by_order[1].removeO()"
   ]
  },
  {
   "cell_type": "code",
   "execution_count": 5,
   "metadata": {},
   "outputs": [],
   "source": [
    "dsolve(diR2_dT_by_order[1].removeO(),iR20)\n",
    "C1 = symbols(\"C_1\")"
   ]
  },
  {
   "cell_type": "code",
   "execution_count": 6,
   "metadata": {},
   "outputs": [
    {
     "data": {
      "image/png": "[encoded data removed]",
      "text/latex": [
       "$$\\left(- \\operatorname{q_{20}^+}{\\left (T \\right )} - \\operatorname{q_{20}^-}{\\left (T \\right )}\\right) \\tilde{Q}_2^{(0)}{\\left (T \\right )} + \\tilde{R}_2^{(0)}{\\left (T \\right )} \\operatorname{q_{20}^-}{\\left (T \\right )} - \\frac{d}{d T} \\tilde{Q}_2^{(0)}{\\left (T \\right )}$$"
      ],
      "text/plain": [
       "                                                                              \n",
       "(-q_{20}__+(T) - q_{20}__-(T))⋅\\tilde{Q}_2__{(0)}(T) + \\tilde{R}_2__{(0)}(T)⋅q\n",
       "                                                                              \n",
       "\n",
       "              d                        \n",
       "_{20}__-(T) - ──(\\tilde{Q}_2__{(0)}(T))\n",
       "              dT                       "
      ]
     },
     "execution_count": 6,
     "metadata": {},
     "output_type": "execute_result"
    }
   ],
   "source": [
    "diQ2_dT_by_order[1].removeO().collect([iQ20])"
   ]
  },
  {
   "cell_type": "code",
   "execution_count": 7,
   "metadata": {},
   "outputs": [
    {
     "data": {
      "image/png": "[encoded data removed]",
      "text/latex": [
       "$$\\tilde{Q}_2^{(0)}{\\left (T \\right )} = \\frac{C_{1} - \\int \\left(- \\left(- C_{1} \\operatorname{q_{20}^-}{\\left (T \\right )} + \\tilde{Q}_2^{(0)}{\\left (T \\right )} \\operatorname{q_{20}^+}{\\left (T \\right )} + \\tilde{Q}_2^{(0)}{\\left (T \\right )} \\operatorname{q_{20}^-}{\\left (T \\right )}\\right) e^{\\int \\operatorname{q_{20}^+}{\\left (T \\right )}\\, dT + \\int \\operatorname{q_{20}^-}{\\left (T \\right )}\\, dT}\\right)\\, dT}{- e^{\\int \\left(\\operatorname{q_{20}^+}{\\left (T \\right )} + \\operatorname{q_{20}^-}{\\left (T \\right )}\\right)\\, dT} + \\int \\operatorname{q_{20}^+}{\\left (T \\right )} e^{\\int \\operatorname{q_{20}^+}{\\left (T \\right )}\\, dT + \\int \\operatorname{q_{20}^-}{\\left (T \\right )}\\, dT}\\, dT + \\int \\operatorname{q_{20}^-}{\\left (T \\right )} e^{\\int \\operatorname{q_{20}^+}{\\left (T \\right )}\\, dT + \\int \\operatorname{q_{20}^-}{\\left (T \\right )}\\, dT}\\, dT}$$"
      ],
      "text/plain": [
       "                                    ⌠                                         \n",
       "                                    ⎮                                         \n",
       "                                    ⎮                                         \n",
       "                                    ⎮                                         \n",
       "                               C₁ - ⎮ -(-C₁⋅q_{20}__-(T) + \\tilde{Q}_2__{(0)}(\n",
       "                                    ⌡                                         \n",
       "\\tilde{Q}_2__{(0)}(T) = ──────────────────────────────────────────────────────\n",
       "                                                                ⌠             \n",
       "                           ⌠                                    ⎮             \n",
       "                           ⎮ (q_{20}__+(T) + q_{20}__-(T)) dT   ⎮             \n",
       "                           ⌡                                    ⎮             \n",
       "                        - ℯ                                   + ⎮ q_{20}__+(T)\n",
       "                                                                ⌡             \n",
       "\n",
       "                                                                              \n",
       "                                                       ⌠                   ⌠  \n",
       "                                                       ⎮ q_{20}__+(T) dT + ⎮ q\n",
       "                                                       ⌡                   ⌡  \n",
       "T)⋅q_{20}__+(T) + \\tilde{Q}_2__{(0)}(T)⋅q_{20}__-(T))⋅ℯ                       \n",
       "                                                                              \n",
       "──────────────────────────────────────────────────────────────────────────────\n",
       "                                             ⌠                                \n",
       "  ⌠                   ⌠                      ⎮               ⌠                \n",
       "  ⎮ q_{20}__+(T) dT + ⎮ q_{20}__-(T) dT      ⎮               ⎮ q_{20}__+(T) dT\n",
       "  ⌡                   ⌡                      ⎮               ⌡                \n",
       "⋅ℯ                                      dT + ⎮ q_{20}__-(T)⋅ℯ                 \n",
       "                                             ⌡                                \n",
       "\n",
       "                       \n",
       "                       \n",
       "_{20}__-(T) dT         \n",
       "                       \n",
       "               dT      \n",
       "                       \n",
       "───────────────────────\n",
       "                       \n",
       "   ⌠                   \n",
       " + ⎮ q_{20}__-(T) dT   \n",
       "   ⌡                   \n",
       "                     dT\n",
       "                       "
      ]
     },
     "execution_count": 7,
     "metadata": {},
     "output_type": "execute_result"
    }
   ],
   "source": [
    "simplify(dsolve(diQ2_dT_by_order[1].removeO().subs(iR20,C1).collect([iQ20]),iQ20))"
   ]
  },
  {
   "cell_type": "code",
   "execution_count": 8,
   "metadata": {},
   "outputs": [
    {
     "data": {
      "image/png": "[encoded data removed]",
      "text/latex": [
       "$$\\left(- \\operatorname{q_{40}^+}{\\left (T \\right )} - \\operatorname{q_{40}^-}{\\left (T \\right )}\\right) \\tilde{Q}_4^{(0)}{\\left (T \\right )} + \\tilde{R}_3^{(0)}{\\left (T \\right )} \\operatorname{q_{40}^-}{\\left (T \\right )} - \\frac{d}{d T} \\tilde{Q}_4^{(0)}{\\left (T \\right )}$$"
      ],
      "text/plain": [
       "                                                                              \n",
       "(-q_{40}__+(T) - q_{40}__-(T))⋅\\tilde{Q}_4__{(0)}(T) + \\tilde{R}_3__{(0)}(T)⋅q\n",
       "                                                                              \n",
       "\n",
       "              d                        \n",
       "_{40}__-(T) - ──(\\tilde{Q}_4__{(0)}(T))\n",
       "              dT                       "
      ]
     },
     "execution_count": 8,
     "metadata": {},
     "output_type": "execute_result"
    }
   ],
   "source": [
    "diQ4_dT_by_order[1].removeO().collect([iQ40])"
   ]
  },
  {
   "cell_type": "code",
   "execution_count": 9,
   "metadata": {},
   "outputs": [],
   "source": [
    "R20_solution = symbols(\"R_2^{(0)}(t_0)\")\n",
    "R30_solution = symbols(\"R_3^{(0)}(t_0)\")\n",
    "Q20_solution = (iq20m/(iq20m+iq20p)).subs(T,0)*R20_solution\n",
    "Q40_solution = (iq40m/(iq40m+iq40p)).subs(T,0)*R30_solution\n"
   ]
  },
  {
   "cell_type": "code",
   "execution_count": 10,
   "metadata": {},
   "outputs": [
    {
     "data": {
      "image/png": "[encoded data removed]",
      "text/latex": [
       "$$- R_2^{(0)}(t_0) \\operatorname{q^{-}_{1}}{\\left (T \\right )} - \\frac{R_2^{(0)}(t_0) \\operatorname{q^{-}_{1}}{\\left (T \\right )} \\operatorname{q_{20}^-}{\\left (0 \\right )}}{\\operatorname{q_{20}^+}{\\left (0 \\right )} + \\operatorname{q_{20}^-}{\\left (0 \\right )}} - R_3^{(0)}(t_0) \\operatorname{q^{-}_{1}}{\\left (T \\right )} + \\left(- \\operatorname{q_{20}^+}{\\left (T \\right )} - \\operatorname{q_{20}^-}{\\left (T \\right )}\\right) \\tilde{Q}_2^{(1)}{\\left (T \\right )} + \\tilde{R}_2^{(1)}{\\left (T \\right )} \\operatorname{q_{20}^-}{\\left (T \\right )} + \\operatorname{q^{-}_{1}}{\\left (T \\right )} - \\frac{d}{d T} \\tilde{Q}_2^{(1)}{\\left (T \\right )}$$"
      ],
      "text/plain": [
       "                          R_2_0)__{(0)}(t⋅q⁻₁(T)⋅q_{20}__-(0)                 \n",
       "-R_2_0)__{(0)}(t⋅q⁻₁(T) - ─────────────────────────────────── - R_3_0)__{(0)}(\n",
       "                              q_{20}__+(0) + q_{20}__-(0)                     \n",
       "\n",
       "                                                                              \n",
       "t⋅q⁻₁(T) + (-q_{20}__+(T) - q_{20}__-(T))⋅\\tilde{Q}_2__{(1)}(T) + \\tilde{R}_2_\n",
       "                                                                              \n",
       "\n",
       "                                  d                        \n",
       "_{(1)}(T)⋅q_{20}__-(T) + q⁻₁(T) - ──(\\tilde{Q}_2__{(1)}(T))\n",
       "                                  dT                       "
      ]
     },
     "execution_count": 10,
     "metadata": {},
     "output_type": "execute_result"
    }
   ],
   "source": [
    "diQ2_dT_by_order[epsilon].subs(\n",
    "    {iQ20:Q20_solution, iQ40: Q40_solution, \n",
    "     iR20: R20_solution, iR30: R30_solution\n",
    "    }).collect([iQ21,iR20])"
   ]
  },
  {
   "cell_type": "code",
   "execution_count": 11,
   "metadata": {},
   "outputs": [
    {
     "name": "stdout",
     "output_type": "stream",
     "text": [
      "- R_2^{(0)}(t_0) \\operatorname{q^{-}_{1}}{\\left (T \\right )} - \\frac{R_2^{(0)}(t_0) \\operatorname{q^{-}_{1}}{\\left (T \\right )} \\operatorname{q_{20}^-}{\\left (0 \\right )}}{\\operatorname{q_{20}^+}{\\left (0 \\right )} + \\operatorname{q_{20}^-}{\\left (0 \\right )}} - R_3^{(0)}(t_0) \\operatorname{q^{-}_{1}}{\\left (T \\right )} + \\left(- \\operatorname{q_{20}^+}{\\left (T \\right )} - \\operatorname{q_{20}^-}{\\left (T \\right )}\\right) \\tilde{Q}_2^{(1)}{\\left (T \\right )} + \\tilde{R}_2^{(1)}{\\left (T \\right )} \\operatorname{q_{20}^-}{\\left (T \\right )} + \\operatorname{q^{-}_{1}}{\\left (T \\right )} - \\frac{d}{d T} \\tilde{Q}_2^{(1)}{\\left (T \\right )}\n"
     ]
    }
   ],
   "source": [
    "print_latex(diQ2_dT_by_order[epsilon].subs(\n",
    "    {iQ20:Q20_solution, iQ40: Q40_solution, \n",
    "     iR20: R20_solution, iR30: R30_solution\n",
    "    }).collect([iQ21,iR20]))"
   ]
  },
  {
   "cell_type": "code",
   "execution_count": 12,
   "metadata": {},
   "outputs": [
    {
     "data": {
      "image/png": "[encoded data removed]",
      "text/latex": [
       "$$R_2^{(0)}(t_0) \\operatorname{q^{+}_{3}}{\\left (T \\right )} - \\frac{R_2^{(0)}(t_0) \\operatorname{q^{+}_{3}}{\\left (T \\right )} \\operatorname{q_{20}^-}{\\left (0 \\right )}}{\\operatorname{q_{20}^+}{\\left (0 \\right )} + \\operatorname{q_{20}^-}{\\left (0 \\right )}} - \\frac{R_3^{(0)}(t_0) \\operatorname{q^{-}_{3}}{\\left (T \\right )} \\operatorname{q_{40}^-}{\\left (0 \\right )}}{\\operatorname{q_{40}^+}{\\left (0 \\right )} + \\operatorname{q_{40}^-}{\\left (0 \\right )}} + \\left(- \\operatorname{q_{40}^+}{\\left (T \\right )} - \\operatorname{q_{40}^-}{\\left (T \\right )}\\right) \\tilde{Q}_4^{(1)}{\\left (T \\right )} + \\tilde{R}_3^{(1)}{\\left (T \\right )} \\operatorname{q_{40}^-}{\\left (T \\right )} - \\frac{d}{d T} \\tilde{Q}_4^{(1)}{\\left (T \\right )}$$"
      ],
      "text/plain": [
       "                         R_2_0)__{(0)}(t⋅q⁺₃(T)⋅q_{20}__-(0)   R_3_0)__{(0)}(t\n",
       "R_2_0)__{(0)}(t⋅q⁺₃(T) - ─────────────────────────────────── - ───────────────\n",
       "                             q_{20}__+(0) + q_{20}__-(0)           q_{40}__+(0\n",
       "\n",
       "⋅q⁻₃(T)⋅q_{40}__-(0)                                                          \n",
       "──────────────────── + (-q_{40}__+(T) - q_{40}__-(T))⋅\\tilde{Q}_4__{(1)}(T) + \n",
       ") + q_{40}__-(0)                                                              \n",
       "\n",
       "                                     d                        \n",
       "\\tilde{R}_3__{(1)}(T)⋅q_{40}__-(T) - ──(\\tilde{Q}_4__{(1)}(T))\n",
       "                                     dT                       "
      ]
     },
     "execution_count": 12,
     "metadata": {},
     "output_type": "execute_result"
    }
   ],
   "source": [
    "diQ4_dT_by_order[epsilon].subs(\n",
    "    {iQ20:Q20_solution, iQ40: Q40_solution, \n",
    "     iR20: R20_solution, iR30: R30_solution\n",
    "    }).collect([iQ41,Q20_solution,Q40_solution,R20_solution,R30_solution])"
   ]
  },
  {
   "cell_type": "code",
   "execution_count": 13,
   "metadata": {},
   "outputs": [
    {
     "name": "stdout",
     "output_type": "stream",
     "text": [
      "R_2^{(0)}(t_0) \\operatorname{q^{+}_{3}}{\\left (T \\right )} - \\frac{R_2^{(0)}(t_0) \\operatorname{q^{+}_{3}}{\\left (T \\right )} \\operatorname{q_{20}^-}{\\left (0 \\right )}}{\\operatorname{q_{20}^+}{\\left (0 \\right )} + \\operatorname{q_{20}^-}{\\left (0 \\right )}} - \\frac{R_3^{(0)}(t_0) \\operatorname{q^{-}_{3}}{\\left (T \\right )} \\operatorname{q_{40}^-}{\\left (0 \\right )}}{\\operatorname{q_{40}^+}{\\left (0 \\right )} + \\operatorname{q_{40}^-}{\\left (0 \\right )}} - \\tilde{Q}_4^{(1)}{\\left (T \\right )} \\operatorname{q_{40}^+}{\\left (T \\right )} - \\tilde{Q}_4^{(1)}{\\left (T \\right )} \\operatorname{q_{40}^-}{\\left (T \\right )} + \\tilde{R}_3^{(1)}{\\left (T \\right )} \\operatorname{q_{40}^-}{\\left (T \\right )} - \\frac{d}{d T} \\tilde{Q}_4^{(1)}{\\left (T \\right )}\n"
     ]
    }
   ],
   "source": [
    "print_latex(diQ4_dT_by_order[epsilon].subs(\n",
    "    {iQ20:Q20_solution, iQ40: Q40_solution, \n",
    "     iR20: R20_solution, iR30: R30_solution\n",
    "    }).collect([iQ21,iR20]))"
   ]
  },
  {
   "cell_type": "code",
   "execution_count": 14,
   "metadata": {},
   "outputs": [
    {
     "data": {
      "image/png": "[encoded data removed]",
      "text/latex": [
       "$$R_2^{(0)}(t_0) \\left(- \\operatorname{q^{+}_{1}}{\\left (T \\right )} - \\operatorname{q^{+}_{3}}{\\left (T \\right )} - \\frac{\\operatorname{q^{-}_{1}}{\\left (T \\right )} \\operatorname{q_{20}^-}{\\left (0 \\right )}}{\\operatorname{q_{20}^+}{\\left (0 \\right )} + \\operatorname{q_{20}^-}{\\left (0 \\right )}} + \\frac{\\operatorname{q^{+}_{3}}{\\left (T \\right )} \\operatorname{q_{20}^-}{\\left (0 \\right )}}{\\operatorname{q_{20}^+}{\\left (0 \\right )} + \\operatorname{q_{20}^-}{\\left (0 \\right )}}\\right) + R_3^{(0)}(t_0) \\left(- \\operatorname{q^{+}_{1}}{\\left (T \\right )} + \\frac{\\operatorname{q^{-}_{3}}{\\left (T \\right )} \\operatorname{q_{40}^-}{\\left (0 \\right )}}{\\operatorname{q_{40}^+}{\\left (0 \\right )} + \\operatorname{q_{40}^-}{\\left (0 \\right )}}\\right) + \\operatorname{q^{+}_{1}}{\\left (T \\right )} - \\frac{d}{d T} \\tilde{R}_2^{(1)}{\\left (T \\right )}$$"
      ],
      "text/plain": [
       "                ⎛                       q⁻₁(T)⋅q_{20}__-(0)           q⁺₃(T)⋅q\n",
       "R_2_0)__{(0)}(t⋅⎜-q⁺₁(T) - q⁺₃(T) - ─────────────────────────── + ────────────\n",
       "                ⎝                   q_{20}__+(0) + q_{20}__-(0)   q_{20}__+(0)\n",
       "\n",
       "_{20}__-(0)    ⎞                   ⎛              q⁻₃(T)⋅q_{40}__-(0)    ⎞    \n",
       "───────────────⎟ + R_3_0)__{(0)}(t⋅⎜-q⁺₁(T) + ───────────────────────────⎟ + q\n",
       " + q_{20}__-(0)⎠                   ⎝          q_{40}__+(0) + q_{40}__-(0)⎠    \n",
       "\n",
       "        d                        \n",
       "⁺₁(T) - ──(\\tilde{R}_2__{(1)}(T))\n",
       "        dT                       "
      ]
     },
     "execution_count": 14,
     "metadata": {},
     "output_type": "execute_result"
    }
   ],
   "source": [
    "diR2_dT_by_order[epsilon].subs(\n",
    "    {iQ20:Q20_solution, iQ40: Q40_solution, \n",
    "     iR20: R20_solution, iR30: R30_solution\n",
    "    }).collect([iQ21,iR20]).collect([R20_solution,R30_solution])"
   ]
  },
  {
   "cell_type": "code",
   "execution_count": 15,
   "metadata": {},
   "outputs": [
    {
     "name": "stdout",
     "output_type": "stream",
     "text": [
      "R_2^{(0)}(t_0) \\left(- \\operatorname{q^{+}_{1}}{\\left (T \\right )} - \\operatorname{q^{+}_{3}}{\\left (T \\right )} - \\frac{\\operatorname{q^{-}_{1}}{\\left (T \\right )} \\operatorname{q_{20}^-}{\\left (0 \\right )}}{\\operatorname{q_{20}^+}{\\left (0 \\right )} + \\operatorname{q_{20}^-}{\\left (0 \\right )}} + \\frac{\\operatorname{q^{+}_{3}}{\\left (T \\right )} \\operatorname{q_{20}^-}{\\left (0 \\right )}}{\\operatorname{q_{20}^+}{\\left (0 \\right )} + \\operatorname{q_{20}^-}{\\left (0 \\right )}}\\right) + R_3^{(0)}(t_0) \\left(- \\operatorname{q^{+}_{1}}{\\left (T \\right )} + \\frac{\\operatorname{q^{-}_{3}}{\\left (T \\right )} \\operatorname{q_{40}^-}{\\left (0 \\right )}}{\\operatorname{q_{40}^+}{\\left (0 \\right )} + \\operatorname{q_{40}^-}{\\left (0 \\right )}}\\right) + \\operatorname{q^{+}_{1}}{\\left (T \\right )} - \\frac{d}{d T} \\tilde{R}_2^{(1)}{\\left (T \\right )}\n"
     ]
    }
   ],
   "source": [
    "print_latex(diR2_dT_by_order[epsilon].subs(\n",
    "    {iQ20:Q20_solution, iQ40: Q40_solution, \n",
    "     iR20: R20_solution, iR30: R30_solution\n",
    "    }).collect([iQ21,iR20]).collect([R20_solution,R30_solution]))"
   ]
  },
  {
   "cell_type": "code",
   "execution_count": 16,
   "metadata": {},
   "outputs": [
    {
     "data": {
      "image/png": "[encoded data removed]",
      "text/latex": [
       "$$R_2^{(0)}(t_0) \\left(\\operatorname{q^{+}_{3}}{\\left (T \\right )} - \\operatorname{q^{-}_{5}}{\\left (T \\right )} - \\frac{\\operatorname{q^{+}_{3}}{\\left (T \\right )} \\operatorname{q_{20}^-}{\\left (0 \\right )}}{\\operatorname{q_{20}^+}{\\left (0 \\right )} + \\operatorname{q_{20}^-}{\\left (0 \\right )}}\\right) + R_3^{(0)}(t_0) \\left(- \\operatorname{q^{+}_{5}}{\\left (T \\right )} - \\operatorname{q^{-}_{5}}{\\left (T \\right )} - \\frac{\\operatorname{q^{-}_{3}}{\\left (T \\right )} \\operatorname{q_{40}^-}{\\left (0 \\right )}}{\\operatorname{q_{40}^+}{\\left (0 \\right )} + \\operatorname{q_{40}^-}{\\left (0 \\right )}} + \\frac{\\operatorname{q^{+}_{5}}{\\left (T \\right )} \\operatorname{q_{40}^-}{\\left (0 \\right )}}{\\operatorname{q_{40}^+}{\\left (0 \\right )} + \\operatorname{q_{40}^-}{\\left (0 \\right )}}\\right) + \\operatorname{q^{-}_{5}}{\\left (T \\right )} - \\frac{d}{d T} \\tilde{R}_3^{(1)}{\\left (T \\right )}$$"
      ],
      "text/plain": [
       "                ⎛                      q⁺₃(T)⋅q_{20}__-(0)    ⎞               \n",
       "R_2_0)__{(0)}(t⋅⎜q⁺₃(T) - q⁻₅(T) - ───────────────────────────⎟ + R_3_0)__{(0)\n",
       "                ⎝                  q_{20}__+(0) + q_{20}__-(0)⎠               \n",
       "\n",
       "    ⎛                       q⁻₃(T)⋅q_{40}__-(0)           q⁺₅(T)⋅q_{40}__-(0) \n",
       "}(t⋅⎜-q⁺₅(T) - q⁻₅(T) - ─────────────────────────── + ────────────────────────\n",
       "    ⎝                   q_{40}__+(0) + q_{40}__-(0)   q_{40}__+(0) + q_{40}__-\n",
       "\n",
       "   ⎞            d                        \n",
       "───⎟ + q⁻₅(T) - ──(\\tilde{R}_3__{(1)}(T))\n",
       "(0)⎠            dT                       "
      ]
     },
     "execution_count": 16,
     "metadata": {},
     "output_type": "execute_result"
    }
   ],
   "source": [
    "diR3_dT_by_order[epsilon].collect([iQ21,iR20]).subs(\n",
    "    {iQ20:Q20_solution, iQ40: Q40_solution, \n",
    "     iR20: R20_solution, iR30: R30_solution\n",
    "    }).collect([R20_solution,R30_solution])"
   ]
  },
  {
   "cell_type": "code",
   "execution_count": 17,
   "metadata": {},
   "outputs": [
    {
     "name": "stdout",
     "output_type": "stream",
     "text": [
      "R_2^{(0)}(t_0) \\left(\\operatorname{q^{+}_{3}}{\\left (T \\right )} - \\operatorname{q^{-}_{5}}{\\left (T \\right )} - \\frac{\\operatorname{q^{+}_{3}}{\\left (T \\right )} \\operatorname{q_{20}^-}{\\left (0 \\right )}}{\\operatorname{q_{20}^+}{\\left (0 \\right )} + \\operatorname{q_{20}^-}{\\left (0 \\right )}}\\right) + R_3^{(0)}(t_0) \\left(- \\operatorname{q^{+}_{5}}{\\left (T \\right )} - \\operatorname{q^{-}_{5}}{\\left (T \\right )} - \\frac{\\operatorname{q^{-}_{3}}{\\left (T \\right )} \\operatorname{q_{40}^-}{\\left (0 \\right )}}{\\operatorname{q_{40}^+}{\\left (0 \\right )} + \\operatorname{q_{40}^-}{\\left (0 \\right )}} + \\frac{\\operatorname{q^{+}_{5}}{\\left (T \\right )} \\operatorname{q_{40}^-}{\\left (0 \\right )}}{\\operatorname{q_{40}^+}{\\left (0 \\right )} + \\operatorname{q_{40}^-}{\\left (0 \\right )}}\\right) + \\operatorname{q^{-}_{5}}{\\left (T \\right )} - \\frac{d}{d T} \\tilde{R}_3^{(1)}{\\left (T \\right )}\n"
     ]
    }
   ],
   "source": [
    "print_latex(diR3_dT_by_order[epsilon].collect([iQ21,iR20]).subs(\n",
    "    {iQ20:Q20_solution, iQ40: Q40_solution, \n",
    "     iR20: R20_solution, iR30: R30_solution\n",
    "    }).collect([R20_solution,R30_solution]))"
   ]
  },
  {
   "cell_type": "code",
   "execution_count": null,
   "metadata": {},
   "outputs": [],
   "source": []
  },
  {
   "cell_type": "code",
   "execution_count": null,
   "metadata": {},
   "outputs": [],
   "source": []
  },
  {
   "cell_type": "code",
   "execution_count": null,
   "metadata": {},
   "outputs": [],
   "source": []
  },
  {
   "cell_type": "code",
   "execution_count": null,
   "metadata": {},
   "outputs": [],
   "source": []
  },
  {
   "cell_type": "code",
   "execution_count": null,
   "metadata": {},
   "outputs": [],
   "source": []
  }
 ],
 "metadata": {
  "kernelspec": {
   "display_name": "Python 3",
   "language": "python",
   "name": "python3"
  },
  "language_info": {
   "codemirror_mode": {
    "name": "ipython",
    "version": 3
   },
   "file_extension": ".py",
   "mimetype": "text/x-python",
   "name": "python",
   "nbconvert_exporter": "python",
   "pygments_lexer": "ipython3",
   "version": "3.7.3"
  }
 },
 "nbformat": 4,
 "nbformat_minor": 2
}
