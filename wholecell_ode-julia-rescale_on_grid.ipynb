{
 "cells": [
  {
   "cell_type": "code",
   "execution_count": 1,
   "metadata": {},
   "outputs": [],
   "source": [
    "include(\"smc_model.jl\")\n",
    "include(\"smc_model_parameters.jl\")\n",
    "using DifferentialEquations\n",
    "using LaTeXStrings\n",
    "using DataFrames\n",
    "using Plots\n",
    "using Measures\n",
    "using DataStructures\n",
    "using NLsolve\n",
    "using WAV\n",
    "using Dierckx \n",
    "using FFTW\n",
    "using DSP\n",
    "using Statistics\n",
    "using JLD2, FileIO\n",
    "using ProgressMeter\n",
    "gr()\n",
    "\n",
    "q0 = Control_params();\n",
    "p0 = Fixed_params();\n",
    "s0 = State();"
   ]
  },
  {
   "cell_type": "markdown",
   "metadata": {},
   "source": [
    "# Construct and solve elevated systems"
   ]
  },
  {
   "cell_type": "code",
   "execution_count": 18,
   "metadata": {},
   "outputs": [
    {
     "data": {
      "text/plain": [
       "simulate_rescaled (generic function with 1 method)"
      ]
     },
     "execution_count": 18,
     "metadata": {},
     "output_type": "execute_result"
    }
   ],
   "source": [
    "\n",
    "function simulate_rescaled(s_er, s_mit, s_ecs)\n",
    "    q0_dict = type2dict(q0);\n",
    "    s0_dict = type2dict(s0);\n",
    "\n",
    "    delete!(q0_dict,Symbol(\"g_leak_mit\"));\n",
    "    q0_dict[Symbol(\"k_leak_er\")] = 0.0;\n",
    "    delete!(q0_dict,Symbol(\"g_leak_ecs\"));\n",
    "\n",
    "    delete!(q0_dict,Symbol(\"SERCA\"));\n",
    "\n",
    "    delete!(s0_dict,Symbol(\"IP3\"));\n",
    "    delete!(s0_dict,Symbol(\"IP3RX00\"));\n",
    "    delete!(s0_dict,Symbol(\"IP3RX10\"));\n",
    "    delete!(s0_dict,Symbol(\"IP3RX01\"));\n",
    "    delete!(s0_dict,Symbol(\"RyRR10\"));\n",
    "    delete!(s0_dict,Symbol(\"RyRR11\"));\n",
    "    delete!(s0_dict,Symbol(\"RyRR01\"));\n",
    "    delete!(s0_dict,Symbol(\"MyoMp\"));\n",
    "    delete!(s0_dict,Symbol(\"MyoAM\"));\n",
    "    delete!(s0_dict,Symbol(\"MyoAMp\"));\n",
    "    delete!(s0_dict,Symbol(\"G\"));\n",
    "    delete!(s0_dict,Symbol(\"PIP2\"));\n",
    "    delete!(s0_dict,Symbol(\"Rs\"));\n",
    "    delete!(s0_dict,Symbol(\"Rsp\"));\n",
    "\n",
    "    excludedODEs = map(v -> Symbol(v), [\"Ca_ecs\",\"Ca_er\",\"Ca_cyt\",\"Phi_ecs\",\"Ca_mit_source\",\"Ca_ecs_source\"]);\n",
    "    includedJs = map(v -> Symbol(v), [\"er_cyt\",\"ecs_cyt\"]);\n",
    "    s0_balanced_dict, q0_balanced_dict = balance(s0_dict,q0_dict,excludedODEs=excludedODEs,includedJs = includedJs);\n",
    "\n",
    "    s0_balanced = reconstruct(s0,merge(s0_dict,s0_balanced_dict));\n",
    "    q0_balanced = reconstruct(q0,merge(q0_dict,q0_balanced_dict));\n",
    "    s0_elevated = reconstruct(s0_balanced, Ca_mit = 0.25);\n",
    "    q0_elevated = reconstruct(q0_balanced, L=0.0);\n",
    "    s0_elevated_dict = type2dict(s0_elevated);\n",
    "    (output, problem, solution) = solveODEs(\n",
    "        s0_elevated,q0_elevated,\n",
    "        timespan=(0.0,60*20),\n",
    "        fix = [\"Ca_mit\",\"Ca_ecs\"]\n",
    "        ,dtmax=10,saveat=1,rd_cer=1s_er,rd_cmi=s_mit,rd_ces=s_ecs);\n",
    "    return output\n",
    "end"
   ]
  },
  {
   "cell_type": "code",
   "execution_count": 19,
   "metadata": {},
   "outputs": [
    {
     "name": "stderr",
     "output_type": "stream",
     "text": [
      "\u001b[32mProgress: 100%|█████████████████████████████████████████| Time: 7:44:24\u001b[39m\n"
     ]
    }
   ],
   "source": [
    "if isfile(\"rescaling_grid_sims.jld2\")\n",
    "    @load \"rescaling_grid_sims.jld2\" results\n",
    "else\n",
    "    pts = 20;\n",
    "\n",
    "    log_alpha_vals = range(-1,1,length=pts);\n",
    "\n",
    "    results = [];\n",
    "    n = 1;\n",
    "    p = Progress(pts^3, 2);\n",
    "    for er in log_alpha_vals\n",
    "        for mit in log_alpha_vals\n",
    "            for ecs in log_alpha_vals\n",
    "                push!(results,(er,mit,ecs,simulate_rescaled(10^er,10^mit,10^ecs)));\n",
    "                ProgressMeter.update!(p, n)\n",
    "                n += 1\n",
    "            end\n",
    "        end\n",
    "    end\n",
    "    @save \"rescaling_grid_sims.jld2\" results\n",
    "end\n",
    "\n"
   ]
  },
  {
   "cell_type": "code",
   "execution_count": 20,
   "metadata": {},
   "outputs": [
    {
     "data": {
      "text/plain": [
       "process_traces (generic function with 1 method)"
      ]
     },
     "execution_count": 20,
     "metadata": {},
     "output_type": "execute_result"
    }
   ],
   "source": [
    "function estimatefr(signal_o,fs;start=500)\n",
    "    Ns = length(signal_o);\n",
    "    if std(signal_o)!= 0.\n",
    "        signal_n = (signal_o -mean(signal_o)*ones(Float16, (Ns,1)))/std(signal_o);\n",
    "    else\n",
    "        signal_n = (signal_o -mean(signal_o)*ones(Float16, (Ns,1)));\n",
    "    end\n",
    "    signal = signal_n[start:end];\n",
    "    N = length(signal);\n",
    "    r = periodogram(signal;nfft=N,fs=fs);\n",
    "    p = r.power;\n",
    "    p_sort =sortperm(abs.(p));\n",
    "    freqArray = r.freq;\n",
    "    freq_dom = freqArray[p_sort[end]];\n",
    "    \n",
    "    if freq_dom != 0\n",
    "        period = 1/freq_dom;\n",
    "        per_l = ceil(Int,period/fs);\n",
    "    else\n",
    "        per_l =  ceil(Int,N/4);\n",
    "    end\n",
    "    sig_p = signal_o[max(start,(end-2*per_l)):end];\n",
    " #   t_p = tti[end-2*per_l:end];\n",
    "    p_max = maximum(sig_p);\n",
    "    p_min = minimum(sig_p);\n",
    "    #p_A = p_max-p_min;\n",
    "    p_mean = mean(sig_p);\n",
    "\n",
    " return (freq_dom,p_max,p_min,p_mean)\n",
    "    \n",
    "end\n",
    "\n",
    "function process_traces(df)\n",
    "    dict = Dict()\n",
    "    fs = 1;\n",
    "    tti=0:1/fs: df[:t][end];\n",
    "    for col in names(df)\n",
    "        Ni =length(tti);\n",
    "     # cyc \n",
    "        spl = Spline1D(df[:t], df[col]; k=2); \n",
    "        signal_o= spl(tti);\n",
    "        dict[col] = estimatefr(signal_o,1; start = 300);\n",
    "    end\n",
    "    return dict\n",
    "end"
   ]
  },
  {
   "cell_type": "code",
   "execution_count": 21,
   "metadata": {},
   "outputs": [],
   "source": [
    "processed = map(x -> (x[1],x[2],x[3],process_traces(x[4])), results );"
   ]
  },
  {
   "cell_type": "code",
   "execution_count": 22,
   "metadata": {},
   "outputs": [],
   "source": [
    "oscillations = map(x -> [x[1],x[2],x[3], x[4][:Ca_cyt][1]>0], processed);"
   ]
  },
  {
   "cell_type": "code",
   "execution_count": 26,
   "metadata": {},
   "outputs": [],
   "source": [
    "er = map(u -> u[1], processed);\n",
    "mit = map(u -> u[2], processed);\n",
    "ecs = map(u -> u[3], processed);\n",
    "freq = map(u -> u[4][:Ca_cyt][1], processed);\n",
    "Fr_mean = map(u -> u[4][:other_Fr][4], processed);\n",
    "Ca_mean = map(u -> u[4][:Ca_cyt][4], processed);\n",
    "J_ecs_mean = map(u -> u[4][:J_er_cyt][4], processed);\n",
    "J_ecs_min = map(u -> u[4][:J_er_cyt][2], processed);\n",
    "J_ecs_max = map(u -> u[4][:J_er_cyt][3], processed);\n",
    "J_mit_mean = map(u -> u[4][:J_mit_cyt][4], processed);"
   ]
  },
  {
   "cell_type": "code",
   "execution_count": 27,
   "metadata": {},
   "outputs": [],
   "source": [
    "summary_grid_data = DataFrame(er=er,mit=mit,ecs=ecs,freq=freq,\n",
    "    Fr_mean=Fr_mean,Ca_mean=Ca_mean,\n",
    "    J_ecs_mean=J_ecs_mean,J_mit_mean=J_mit_mean);"
   ]
  },
  {
   "cell_type": "code",
   "execution_count": 28,
   "metadata": {},
   "outputs": [
    {
     "data": {
      "text/plain": [
       "\"summary_grid_data.csv\""
      ]
     },
     "execution_count": 28,
     "metadata": {},
     "output_type": "execute_result"
    }
   ],
   "source": [
    "using CSV\n",
    "CSV.write(\"summary_grid_data.csv\",summary_grid_data)\n"
   ]
  },
  {
   "cell_type": "code",
   "execution_count": 17,
   "metadata": {
    "scrolled": false
   },
   "outputs": [
    {
     "ename": "UndefVarError",
     "evalue": "UndefVarError: w not defined",
     "output_type": "error",
     "traceback": [
      "UndefVarError: w not defined",
      "",
      "Stacktrace:",
      " [1] top-level scope at In[17]:1"
     ]
    }
   ],
   "source": [
    "plt3d = plot(x[w.<0.5],y[w.<0.5],z[w.<0.5],seriestype=:scatter, alpha=0.05, color=:red, label=\"none\")\n",
    "plot!(x[w.>0.5],y[w.>0.5],z[w.>0.5],seriestype=:scatter, alpha=.3, color=:blue, label=\"oscillations\")\n",
    "plot!(xlim=(-1,1),ylim=(-1,1),zlim=(-1,1))\n",
    "plot!(xlab=L\"\\log_{10} \\alpha\")\n",
    "display(plt3d)\n"
   ]
  },
  {
   "cell_type": "code",
   "execution_count": null,
   "metadata": {},
   "outputs": [],
   "source": []
  }
 ],
 "metadata": {
  "kernelspec": {
   "display_name": "Julia 1.1.0",
   "language": "julia",
   "name": "julia-1.1"
  },
  "language_info": {
   "file_extension": ".jl",
   "mimetype": "application/julia",
   "name": "julia",
   "version": "1.1.1"
  }
 },
 "nbformat": 4,
 "nbformat_minor": 2
}
