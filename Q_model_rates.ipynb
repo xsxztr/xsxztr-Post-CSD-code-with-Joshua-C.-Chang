{
 "cells": [
  {
   "cell_type": "code",
   "execution_count": 1,
   "metadata": {},
   "outputs": [],
   "source": [
    "from sympy import *\n",
    "from sympy.solvers.solveset import linsolve\n",
    "init_printing()\n",
    "import numpy as np"
   ]
  },
  {
   "cell_type": "code",
   "execution_count": 8,
   "metadata": {},
   "outputs": [],
   "source": [
    "P1, P2, P2a, P4, P5, P6, P8, P9, P10 = symbols(\"P_1, P_2, P_{2a}, P_4, P_5, P_6, P_8, P_9, P_{10}\")\n",
    "\n",
    "k1p, k2p, k3p, k1m, k2m, k3m = symbols('k_1^+ k_2^+ k_3^+ k_1^- k_2^- k_3^-')\n",
    "km = symbols('k_-')\n",
    "\n",
    "MgATP, Ca_cyt, Ca_er, KdH1, KdHi, MgADP, KdCai, KdCasr, KdHsr, H, KdH, Pi = symbols(\"MgATP, Ca_{cyt}, Ca_{er}, K_{dH1}, K_{dHi}, [MgADP], K_{dCai}, K_{dCasr}, K_{dHsr}, H, K_{dH}, P_i\")\n",
    "Q1, Q2, Q3, Q4, Q5 = symbols(\"Q_1, Q_2, Q_3, Q_4, Q_5\")\n",
    "epsilon, delta = symbols(\"epsilon delta\")"
   ]
  },
  {
   "cell_type": "code",
   "execution_count": 9,
   "metadata": {},
   "outputs": [
    {
     "data": {
      "image/png": "[encoded data removed]",
      "text/latex": [
       "$$\\left [ H P_{2} - K_{dH1} P_{2a}, \\quad H^{2} P_{5} - K_{dHi}^{2} P_{4}, \\quad - H^{2} P_{8} + K_{dHsr}^{2} P_{9}, \\quad H P_{10} - K_{dH} P_{9}, \\quad P_{1} - Q_{1}, \\quad - P_{2} - P_{2a} + Q_{2}, \\quad - P_{4} - P_{5} + Q_{3}, \\quad - P_{8} - P_{9} - P_{10} + Q_{5}, \\quad P_{6} - Q_{4}\\right ]$$"
      ],
      "text/plain": [
       "⎡                        2             2        2              2              \n",
       "⎣H⋅P₂ - K_{dH1}⋅P_{2a}, H ⋅P₅ - K_{dHi} ⋅P₄, - H ⋅P₈ + K_{dHsr} ⋅P₉, H⋅P_{10} \n",
       "\n",
       "                                                                              \n",
       "- K_{dH}⋅P₉, P₁ - Q₁, -P₂ - P_{2a} + Q₂, -P₄ - P₅ + Q₃, -P₈ - P₉ - P_{10} + Q₅\n",
       "\n",
       "         ⎤\n",
       ", P₆ - Q₄⎦"
      ]
     },
     "execution_count": 9,
     "metadata": {},
     "output_type": "execute_result"
    }
   ],
   "source": [
    "# Quasi-steady-state conditions for protons\n",
    "\n",
    "system = [ P2*H-KdH1*P2a, P5*H**2 - KdHi**2*P4, \n",
    "          P9*KdHsr**2 - P8*H**2, P10*H-KdH*P9,\n",
    "         P1-Q1, Q2 - P2- P2a, Q3-P4-P5,Q5-P8-P9-P10, P6 - Q4]\n",
    "system"
   ]
  },
  {
   "cell_type": "code",
   "execution_count": 10,
   "metadata": {},
   "outputs": [
    {
     "data": {
      "image/png": "[encoded data removed]",
      "text/latex": [
       "$$\\left \\{ P_{1} : Q_{1}, \\quad P_{2} : \\frac{K_{dH1} Q_{2}}{H + K_{dH1}}, \\quad P_{4} : \\frac{H^{2} Q_{3}}{H^{2} + K_{dHi}^{2}}, \\quad P_{5} : \\frac{K_{dHi}^{2} Q_{3}}{H^{2} + K_{dHi}^{2}}, \\quad P_{6} : Q_{4}, \\quad P_{8} : \\frac{K_{dHsr}^{2} Q_{5}}{H^{2} + H K_{dH} + K_{dHsr}^{2}}, \\quad P_{9} : \\frac{H^{2} Q_{5}}{H^{2} + H K_{dH} + K_{dHsr}^{2}}, \\quad P_{10} : \\frac{H K_{dH} Q_{5}}{H^{2} + H K_{dH} + K_{dHsr}^{2}}, \\quad P_{2a} : \\frac{H Q_{2}}{H + K_{dH1}}\\right \\}$$"
      ],
      "text/plain": [
       "⎧                                  2                     2                    \n",
       "⎪             K_{dH1}⋅Q₂          H ⋅Q₃           K_{dHi} ⋅Q₃                 \n",
       "⎨P₁: Q₁, P₂: ───────────, P₄: ─────────────, P₅: ─────────────, P₆: Q₄, P₈: ──\n",
       "⎪            H + K_{dH1}       2          2       2          2               2\n",
       "⎩                             H  + K_{dHi}       H  + K_{dHi}               H \n",
       "\n",
       "             2                          2                                     \n",
       "     K_{dHsr} ⋅Q₅                      H ⋅Q₅                           H⋅K_{dH\n",
       "───────────────────────, P₉: ─────────────────────────, P_{10}: ──────────────\n",
       "                      2       2                      2           2            \n",
       " + H⋅K_{dH} + K_{dHsr}       H  + H⋅K_{dH} + K_{dHsr}           H  + H⋅K_{dH} \n",
       "\n",
       "                                ⎫\n",
       "}⋅Q₅                     H⋅Q₂   ⎪\n",
       "───────────, P_{2a}: ───────────⎬\n",
       "          2          H + K_{dH1}⎪\n",
       "+ K_{dHsr}                      ⎭"
      ]
     },
     "execution_count": 10,
     "metadata": {},
     "output_type": "execute_result"
    }
   ],
   "source": [
    "P_states = solve(system,[P1,P2a,P2,P4,P5,P6,P8,P9,P10])\n",
    "P_states"
   ]
  },
  {
   "cell_type": "code",
   "execution_count": 11,
   "metadata": {},
   "outputs": [
    {
     "data": {
      "image/png": "[encoded data removed]",
      "text/latex": [
       "$$\\left [ MgATP P_{1} k^{+}_{1} - Q_{1} q^{+}_{1}, \\quad - P_{2} k^{-}_{1} + Q_{2} q^{-}_{1}, \\quad - \\frac{Ca_{cyt}^{2} P_{2}}{\\epsilon} + Q_{2} q^{+}_{2}, \\quad - \\frac{K_{dCai}^{2} P_{4}}{\\epsilon} + Q_{3} q^{-}_{2}, \\quad - P_{5} k^{+}_{2} + Q_{3} q^{+}_{3}, \\quad - P_{6} [MgADP] k^{-}_{2} + Q_{4} q^{-}_{3}, \\quad - \\frac{K_{dCasr}^{2} P_{6}}{\\delta} + Q_{4} q^{+}_{4}, \\quad - \\frac{Ca_{er}^{2} P_{8}}{\\delta} + Q_{5} q^{-}_{4}, \\quad - P_{10} k^{+}_{3} + Q_{5} q^{+}_{5}, \\quad - P_{1} P_{i} k^{-}_{3} + Q_{1} q^{-}_{5}\\right ]$$"
      ],
      "text/plain": [
       "⎡                                                   2                        2\n",
       "⎢                                           Ca_{cyt} ⋅P₂             K_{dCai} \n",
       "⎢MgATP⋅P₁⋅k⁺₁ - Q₁⋅q⁺₁, -P₂⋅k⁻₁ + Q₂⋅q⁻₁, - ──────────── + Q₂⋅q⁺₂, - ─────────\n",
       "⎣                                                ε                        ε   \n",
       "\n",
       "                                                                     2        \n",
       "⋅P₄                                                         K_{dCasr} ⋅P₆     \n",
       "─── + Q₃⋅q⁻₂, -P₅⋅k⁺₂ + Q₃⋅q⁺₃, -P₆⋅[MgADP]⋅k⁻₂ + Q₄⋅q⁻₃, - ───────────── + Q₄\n",
       "                                                                  δ           \n",
       "\n",
       "               2                                                       ⎤\n",
       "        Ca_{er} ⋅P₈                                                    ⎥\n",
       "⋅q⁺₄, - ─────────── + Q₅⋅q⁻₄, -P_{10}⋅k⁺₃ + Q₅⋅q⁺₅, -P₁⋅Pᵢ⋅k⁻₃ + Q₁⋅q⁻₅⎥\n",
       "             δ                                                         ⎦"
      ]
     },
     "execution_count": 11,
     "metadata": {},
     "output_type": "execute_result"
    }
   ],
   "source": [
    "# solve for the effective q rates\n",
    "q1p, q1m, q2p, q2m, q3p, q3m, q4p, q4m, q5p, q5m = symbols(\"q_1^+, q_1^-, q_2^+, q_2^-, q_3^+, q_3^-, q_4^+, q_4^-, q_5^+, q_5^-\")\n",
    "\n",
    "q_system = [\n",
    "    k1p*MgATP*P1 - q1p*Q1, q1m*Q2 - k1m*P2, \n",
    "    q2p*Q2 - P2*Ca_cyt**2/epsilon, q2m*Q3-KdCai**2*P4/epsilon,\n",
    "    q3p*Q3 - k2p*P5, q3m*Q4-k2m*P6*MgADP,\n",
    "    q4p*Q4 - KdCasr**2*P6/delta, q4m*Q5 - Ca_er**2*P8/delta,\n",
    "    q5p*Q5 - k3p*P10, q5m*Q1 - Pi*k3m*P1\n",
    "]\n",
    "\n",
    "q_system  \n",
    "      \n",
    "      "
   ]
  },
  {
   "cell_type": "code",
   "execution_count": 12,
   "metadata": {},
   "outputs": [
    {
     "data": {
      "image/png": "[encoded data removed]",
      "text/latex": [
       "$$\\left \\{ q^{+}_{1} : \\frac{MgATP P_{1} k^{+}_{1}}{Q_{1}}, \\quad q^{-}_{1} : \\frac{P_{2} k^{-}_{1}}{Q_{2}}, \\quad q^{+}_{2} : \\frac{Ca_{cyt}^{2} P_{2}}{Q_{2} \\epsilon}, \\quad q^{-}_{2} : \\frac{K_{dCai}^{2} P_{4}}{Q_{3} \\epsilon}, \\quad q^{+}_{3} : \\frac{P_{5} k^{+}_{2}}{Q_{3}}, \\quad q^{-}_{3} : \\frac{P_{6} [MgADP] k^{-}_{2}}{Q_{4}}, \\quad q^{+}_{4} : \\frac{K_{dCasr}^{2} P_{6}}{Q_{4} \\delta}, \\quad q^{-}_{4} : \\frac{Ca_{er}^{2} P_{8}}{Q_{5} \\delta}, \\quad q^{+}_{5} : \\frac{P_{10} k^{+}_{3}}{Q_{5}}, \\quad q^{-}_{5} : \\frac{P_{1} P_{i} k^{-}_{3}}{Q_{1}}\\right \\}$$"
      ],
      "text/plain": [
       "⎧                                             2                  2            \n",
       "⎪     MgATP⋅P₁⋅k⁺₁       P₂⋅k⁻₁       Ca_{cyt} ⋅P₂       K_{dCai} ⋅P₄       P₅\n",
       "⎨q⁺₁: ────────────, q⁻₁: ──────, q⁺₂: ────────────, q⁻₂: ────────────, q⁺₃: ──\n",
       "⎪          Q₁              Q₂             Q₂⋅ε               Q₃⋅ε             \n",
       "⎩                                                                             \n",
       "\n",
       "                                         2                 2                  \n",
       "⋅k⁺₂       P₆⋅[MgADP]⋅k⁻₂       K_{dCasr} ⋅P₆       Ca_{er} ⋅P₈       P_{10}⋅k\n",
       "────, q⁻₃: ──────────────, q⁺₄: ─────────────, q⁻₄: ───────────, q⁺₅: ────────\n",
       "Q₃               Q₄                  Q₄⋅δ               Q₅⋅δ              Q₅  \n",
       "                                                                              \n",
       "\n",
       "                  ⎫\n",
       "⁺₃       P₁⋅Pᵢ⋅k⁻₃⎪\n",
       "──, q⁻₅: ─────────⎬\n",
       "             Q₁   ⎪\n",
       "                  ⎭"
      ]
     },
     "execution_count": 12,
     "metadata": {},
     "output_type": "execute_result"
    }
   ],
   "source": [
    "rates = solve(q_system, \n",
    "              [q1p, q1m, q2p, q2m, q3p, q3m, q4p, q4m, q5p, q5m]\n",
    "             )\n",
    "rates"
   ]
  },
  {
   "cell_type": "code",
   "execution_count": 13,
   "metadata": {},
   "outputs": [
    {
     "data": {
      "image/png": "[encoded data removed]",
      "text/latex": [
       "$$\\left \\{ q^{+}_{1} : MgATP k^{+}_{1}, \\quad q^{-}_{1} : \\frac{K_{dH1} k^{-}_{1}}{H + K_{dH1}}, \\quad q^{+}_{2} : \\frac{Ca_{cyt}^{2} K_{dH1}}{\\epsilon \\left(H + K_{dH1}\\right)}, \\quad q^{-}_{2} : \\frac{H^{2} K_{dCai}^{2}}{\\epsilon \\left(H^{2} + K_{dHi}^{2}\\right)}, \\quad q^{+}_{3} : \\frac{K_{dHi}^{2} k^{+}_{2}}{H^{2} + K_{dHi}^{2}}, \\quad q^{-}_{3} : [MgADP] k^{-}_{2}, \\quad q^{+}_{4} : \\frac{K_{dCasr}^{2}}{\\delta}, \\quad q^{-}_{4} : \\frac{Ca_{er}^{2} K_{dHsr}^{2}}{\\delta \\left(H^{2} + H K_{dH} + K_{dHsr}^{2}\\right)}, \\quad q^{+}_{5} : \\frac{H K_{dH} k^{+}_{3}}{H^{2} + H K_{dH} + K_{dHsr}^{2}}, \\quad q^{-}_{5} : P_{i} k^{-}_{3}\\right \\}$$"
      ],
      "text/plain": [
       "⎧                                               2                   2         \n",
       "⎪                     K_{dH1}⋅k⁻₁       Ca_{cyt} ⋅K_{dH1}          H ⋅K_{dCai}\n",
       "⎨q⁺₁: MgATP⋅k⁺₁, q⁻₁: ───────────, q⁺₂: ─────────────────, q⁻₂: ──────────────\n",
       "⎪                     H + K_{dH1}        ε⋅(H + K_{dH1})          ⎛ 2         \n",
       "⎩                                                               ε⋅⎝H  + K_{dHi\n",
       "\n",
       "2                 2                                      2                    \n",
       "           K_{dHi} ⋅k⁺₂                         K_{dCasr}              Ca_{er}\n",
       "───, q⁺₃: ─────────────, q⁻₃: [MgADP]⋅k⁻₂, q⁺₄: ──────────, q⁻₄: ─────────────\n",
       " 2⎞        2          2                             δ              ⎛ 2        \n",
       "} ⎠       H  + K_{dHi}                                           δ⋅⎝H  + H⋅K_{\n",
       "\n",
       "2         2                                                  ⎫\n",
       " ⋅K_{dHsr}                    H⋅K_{dH}⋅k⁺₃                   ⎪\n",
       "────────────────, q⁺₅: ─────────────────────────, q⁻₅: Pᵢ⋅k⁻₃⎬\n",
       "              2⎞        2                      2             ⎪\n",
       "dH} + K_{dHsr} ⎠       H  + H⋅K_{dH} + K_{dHsr}              ⎭"
      ]
     },
     "execution_count": 13,
     "metadata": {},
     "output_type": "execute_result"
    }
   ],
   "source": [
    "{key: rate.subs(P_states) for key,rate in rates.items()}"
   ]
  },
  {
   "cell_type": "code",
   "execution_count": null,
   "metadata": {},
   "outputs": [],
   "source": []
  },
  {
   "cell_type": "code",
   "execution_count": null,
   "metadata": {},
   "outputs": [],
   "source": []
  }
 ],
 "metadata": {
  "kernelspec": {
   "display_name": "Python 3",
   "language": "python",
   "name": "python3"
  },
  "language_info": {
   "codemirror_mode": {
    "name": "ipython",
    "version": 3
   },
   "file_extension": ".py",
   "mimetype": "text/x-python",
   "name": "python",
   "nbconvert_exporter": "python",
   "pygments_lexer": "ipython3",
   "version": "3.7.2"
  }
 },
 "nbformat": 4,
 "nbformat_minor": 2
}
