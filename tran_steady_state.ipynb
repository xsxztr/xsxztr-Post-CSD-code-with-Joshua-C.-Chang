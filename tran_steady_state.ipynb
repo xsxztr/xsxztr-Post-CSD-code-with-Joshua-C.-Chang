{
 "cells": [
  {
   "cell_type": "code",
   "execution_count": 1,
   "metadata": {},
   "outputs": [],
   "source": [
    "from sympy import *\n",
    "from sympy.solvers.solveset import linsolve\n",
    "init_printing()\n",
    "import numpy as np"
   ]
  },
  {
   "cell_type": "code",
   "execution_count": 19,
   "metadata": {},
   "outputs": [
    {
     "data": {
      "image/png": "[encoded data removed]",
      "text/latex": [
       "$$\\left ( - 2 Q_{2} q^{+}_{2} + 2 Q_{3} q^{-}_{2}, \\quad - 2 Q_{4} q^{+}_{4} + 2 Q_{5} q^{-}_{4}\\right )$$"
      ],
      "text/plain": [
       "(-2⋅Q₂⋅q⁺₂ + 2⋅Q₃⋅q⁻₂, -2⋅Q₄⋅q⁺₄ + 2⋅Q₅⋅q⁻₄)"
      ]
     },
     "execution_count": 19,
     "metadata": {},
     "output_type": "execute_result"
    }
   ],
   "source": [
    "q1p, q1m, q2p, q2m, q3p, q3m, q4p, q4m, q5p, q5m = symbols(\"q_1^+, q_1^-, q_2^+, q_2^-, q_3^+, q_3^-, q_4^+, q_4^-, q_5^+, q_5^-\")\n",
    "Q1, Q2, Q3, Q4, Q5 = symbols(\"Q_1, Q_2, Q_3, Q_4, Q_5\")\n",
    "\n",
    "J_cyt = 2*(q2m*Q3- Q2*q2p)\n",
    "J_er = -2*(q4p*Q4-Q5*q4m)\n",
    "\n",
    "J_cyt,J_er\n"
   ]
  },
  {
   "cell_type": "code",
   "execution_count": 3,
   "metadata": {
    "scrolled": true
   },
   "outputs": [
    {
     "data": {
      "image/png": "[encoded data removed]",
      "text/latex": [
       "$$\\left[\\begin{matrix}- q^{+}_{1} - q^{-}_{5} & q^{-}_{1} & 0 & 0 & q^{+}_{5}\\\\q^{+}_{1} & - q^{-}_{1} - q^{+}_{2} & q^{-}_{2} & 0 & 0\\\\0 & q^{+}_{2} & - q^{-}_{2} - q^{+}_{3} & q^{-}_{3} & 0\\\\0 & 0 & q^{+}_{3} & - q^{-}_{3} - q^{+}_{4} & q^{-}_{4}\\\\q^{-}_{5} & 0 & 0 & q^{+}_{4} & - q^{-}_{4} - q^{+}_{5}\\end{matrix}\\right]$$"
      ],
      "text/plain": [
       "⎡-q⁺₁ - q⁻₅     q⁻₁          0           0          q⁺₅    ⎤\n",
       "⎢                                                          ⎥\n",
       "⎢   q⁺₁      -q⁻₁ - q⁺₂     q⁻₂          0           0     ⎥\n",
       "⎢                                                          ⎥\n",
       "⎢    0          q⁺₂      -q⁻₂ - q⁺₃     q⁻₃          0     ⎥\n",
       "⎢                                                          ⎥\n",
       "⎢    0           0          q⁺₃      -q⁻₃ - q⁺₄     q⁻₄    ⎥\n",
       "⎢                                                          ⎥\n",
       "⎣   q⁻₅          0           0          q⁺₄      -q⁻₄ - q⁺₅⎦"
      ]
     },
     "execution_count": 3,
     "metadata": {},
     "output_type": "execute_result"
    }
   ],
   "source": [
    "M = Matrix(( (-(q1p + q5m), q1m,0,0,q5p),\n",
    "           (q1p,-(q2p+q1m),q2m,0,0),\n",
    "          (0,q2p,-(q3p+q2m),q3m,0),\n",
    "          (0,0,q3p,-(q4p+q3m),q4m),\n",
    "          (q5m,0,0,q4p,-(q5p+q4m))))\n",
    "M"
   ]
  },
  {
   "cell_type": "code",
   "execution_count": 4,
   "metadata": {},
   "outputs": [
    {
     "data": {
      "image/png": "[encoded data removed]",
      "text/latex": [
       "$$\\left ( 5, \\quad 5\\right )$$"
      ],
      "text/plain": [
       "(5, 5)"
      ]
     },
     "execution_count": 4,
     "metadata": {},
     "output_type": "execute_result"
    }
   ],
   "source": [
    "M.shape"
   ]
  },
  {
   "cell_type": "code",
   "execution_count": 5,
   "metadata": {},
   "outputs": [
    {
     "data": {
      "image/png": "[encoded data removed]",
      "text/latex": [
       "$$\\left [ Q_{1} \\left(- q^{+}_{1} - q^{-}_{5}\\right) - Q_{2} q^{-}_{1} + Q_{5} q^{+}_{5}, \\quad Q_{1} q^{+}_{1} - Q_{2} \\left(q^{-}_{1} + q^{+}_{2}\\right) + Q_{3} q^{-}_{2}, \\quad Q_{2} q^{+}_{2} - Q_{3} \\left(q^{-}_{2} + q^{+}_{3}\\right) + Q_{4} q^{-}_{3}, \\quad Q_{3} q^{+}_{3} - Q_{4} \\left(q^{-}_{3} + q^{+}_{4}\\right) + Q_{5} q^{-}_{4}, \\quad - Q_{1} - Q_{2} - Q_{3} - Q_{4} - Q_{5} + 1\\right ]$$"
      ],
      "text/plain": [
       "[Q₁⋅(-q⁺₁ - q⁻₅) - Q₂⋅q⁻₁ + Q₅⋅q⁺₅, Q₁⋅q⁺₁ - Q₂⋅(q⁻₁ + q⁺₂) + Q₃⋅q⁻₂, Q₂⋅q⁺₂ -\n",
       " Q₃⋅(q⁻₂ + q⁺₃) + Q₄⋅q⁻₃, Q₃⋅q⁺₃ - Q₄⋅(q⁻₃ + q⁺₄) + Q₅⋅q⁻₄, -Q₁ - Q₂ - Q₃ - Q₄\n",
       " - Q₅ + 1]"
      ]
     },
     "execution_count": 5,
     "metadata": {},
     "output_type": "execute_result"
    }
   ],
   "source": [
    "system = [-(q1p + q5m)*Q1 - q1m*Q2 + q5p*Q5 ,\n",
    "         q1p*Q1 -(q2p+q1m)*Q2 + q2m*Q3,\n",
    "         q2p*Q2 -(q3p+q2m)*Q3 + q3m*Q4,\n",
    "          q3p*Q3 - (q4p+q3m)*Q4 + q4m*Q5,\n",
    "        1-Q5-Q1-Q2-Q3-Q4]\n",
    "system"
   ]
  },
  {
   "cell_type": "code",
   "execution_count": 6,
   "metadata": {},
   "outputs": [],
   "source": [
    "system2 = [simplify(eq.subs(Q5,1-Q1-Q2-Q3-Q4)) for eq in system]"
   ]
  },
  {
   "cell_type": "code",
   "execution_count": 7,
   "metadata": {},
   "outputs": [
    {
     "data": {
      "image/png": "[encoded data removed]",
      "text/latex": [
       "$$\\left [ - Q_{1} \\left(q^{+}_{1} + q^{-}_{5}\\right) - Q_{2} q^{-}_{1} - q^{+}_{5} \\left(Q_{1} + Q_{2} + Q_{3} + Q_{4} - 1\\right), \\quad Q_{1} q^{+}_{1} - Q_{2} \\left(q^{-}_{1} + q^{+}_{2}\\right) + Q_{3} q^{-}_{2}, \\quad Q_{2} q^{+}_{2} - Q_{3} \\left(q^{-}_{2} + q^{+}_{3}\\right) + Q_{4} q^{-}_{3}, \\quad Q_{3} q^{+}_{3} - Q_{4} \\left(q^{-}_{3} + q^{+}_{4}\\right) - q^{-}_{4} \\left(Q_{1} + Q_{2} + Q_{3} + Q_{4} - 1\\right)\\right ]$$"
      ],
      "text/plain": [
       "[-Q₁⋅(q⁺₁ + q⁻₅) - Q₂⋅q⁻₁ - q⁺₅⋅(Q₁ + Q₂ + Q₃ + Q₄ - 1), Q₁⋅q⁺₁ - Q₂⋅(q⁻₁ + q⁺\n",
       "₂) + Q₃⋅q⁻₂, Q₂⋅q⁺₂ - Q₃⋅(q⁻₂ + q⁺₃) + Q₄⋅q⁻₃, Q₃⋅q⁺₃ - Q₄⋅(q⁻₃ + q⁺₄) - q⁻₄⋅(\n",
       "Q₁ + Q₂ + Q₃ + Q₄ - 1)]"
      ]
     },
     "execution_count": 7,
     "metadata": {},
     "output_type": "execute_result"
    }
   ],
   "source": [
    "system2 = [s for s in system2 if s!=0]\n",
    "system2"
   ]
  },
  {
   "cell_type": "code",
   "execution_count": 8,
   "metadata": {},
   "outputs": [],
   "source": [
    "sol1 = linsolve(system2,(Q1,Q2,Q3,Q4))\n",
    "#sol1"
   ]
  },
  {
   "cell_type": "code",
   "execution_count": 9,
   "metadata": {},
   "outputs": [],
   "source": [
    "k1p = 2.59e4 #Hz/mM\n",
    "k2p = 2.52e3 # Hz\n",
    "k3p = 20.5 # Hz\n",
    "k1m = 2 # Hz/mM\n",
    "k2m = 6.72e4 # Hz/mM\n",
    "k3m = 1.49e2 # Hz/mM\n",
    "KdCai = 0.91 # mM\n",
    "KdCasr = 2.24 # mM\n",
    "KdH1 = 1.09e-5 # mM\n",
    "KdHi = sqrt(3.54e-3) #mM\n",
    "KdHsr = sqrt(1.05e-8) #mM\n",
    "KdH = 7.24e-5 #mM\n",
    "n = 2\n",
    "delta = 1e-5\n",
    "epsilon = 1e-5\n",
    "Pi = 1"
   ]
  },
  {
   "cell_type": "code",
   "execution_count": 10,
   "metadata": {},
   "outputs": [],
   "source": [
    "Ca_cyt = 1e-4 # mM\n",
    "Ca_cyt0 = 1e-4\n",
    "Ca_er = .08 # mM\n",
    "Ca_er0 = 0.08\n",
    "H_cyt = 10**-7.2 * 1e3 # mM\n",
    "H_mit = 10**-7.8 * 1e3 # mM\n",
    "H_er = 10**-7.2\n",
    "MgATP_cyt = 4 # mM need to change! this is probably too low\n",
    "MgADP_cyt = .009 # mM"
   ]
  },
  {
   "cell_type": "code",
   "execution_count": 11,
   "metadata": {},
   "outputs": [
    {
     "data": {
      "image/png": "[encoded data removed]",
      "text/latex": [
       "$$\\left \\{ q^{+}_{1} : 103600.0, \\quad q^{-}_{1} : 0.29461157677020045, \\quad q^{+}_{2} : 14730.57883851002, \\quad q^{-}_{2} : 9312773.36686907, \\quad q^{+}_{3} : 2519.99716601994, \\quad q^{-}_{3} : 604.8, \\quad q^{+}_{4} : 78400000.00000001, \\quad q^{-}_{4} : 99956.4750263324, \\quad q^{+}_{5} : 4.91604240134254, \\quad q^{-}_{5} : 149.0\\right \\}$$"
      ],
      "text/plain": [
       "{q⁺₁: 103600.0, q⁻₁: 0.29461157677020045, q⁺₂: 14730.57883851002, q⁻₂: 9312773\n",
       ".36686907, q⁺₃: 2519.99716601994, q⁻₃: 604.8, q⁺₄: 78400000.00000001, q⁻₄: 999\n",
       "56.4750263324, q⁺₅: 4.91604240134254, q⁻₅: 149.0}"
      ]
     },
     "execution_count": 11,
     "metadata": {},
     "output_type": "execute_result"
    }
   ],
   "source": [
    "model_rates = {q1p: k1p*MgATP_cyt,\n",
    "           q2p: 1/epsilon*KdH1/(H_cyt+KdH1)*(Ca_cyt/Ca_cyt0)**2,\n",
    "           q3p:k2p*KdHi**2/(KdHi**2 + H_cyt**2),\n",
    "           q4p:1/delta *(KdCasr/Ca_er0)**2,\n",
    "           q5p:k3p * H_cyt*KdH/(KdHsr**2 + H_cyt*KdH + H_cyt**2),\n",
    "           q1m:k1m*KdH1/(H_cyt+KdH1),\n",
    "           q2m:1/epsilon*H_cyt**2/(H_cyt**2+KdHi**2)*(KdCai/Ca_cyt0)**2,\n",
    "           q3m:k2m*MgADP_cyt,\n",
    "           q4m:1/delta*KdHsr**2*(Ca_er/Ca_er0)**2/(KdHsr**2 + H_er*KdH + H_er**2),\n",
    "           q5m:k3m*Pi}\n",
    "model_rates"
   ]
  },
  {
   "cell_type": "code",
   "execution_count": 12,
   "metadata": {},
   "outputs": [
    {
     "data": {
      "image/png": "[encoded data removed]",
      "text/latex": [
       "$$\\left \\{ Q_{1} : 1.9534550294360684e-05, \\quad Q_{2} : 0.5531290988504682, \\quad Q_{3} : 0.0008747180519066983, \\quad Q_{4} : 0.0005678998633358597, \\quad Q_{5} : 0.4454087486839948\\right \\}$$"
      ],
      "text/plain": [
       "{Q₁: 1.9534550294360684e-05, Q₂: 0.5531290988504682, Q₃: 0.0008747180519066983\n",
       ", Q₄: 0.0005678998633358597, Q₅: 0.4454087486839948}"
      ]
     },
     "execution_count": 12,
     "metadata": {},
     "output_type": "execute_result"
    }
   ],
   "source": [
    "Q_inf = sol1.subs(model_rates)\n",
    "Q_inf = np.array([j for j in Q_inf.args][0],dtype=np.float64)\n",
    "\n",
    "Q_inf = {q:v for q,v in zip([Q1,Q2,Q3,Q4],Q_inf)}\n",
    "Q_inf[Q5] = 1-sum(Q_inf.values())\n",
    "Q_inf"
   ]
  },
  {
   "cell_type": "code",
   "execution_count": 13,
   "metadata": {},
   "outputs": [
    {
     "data": {
      "image/png": "[encoded data removed]",
      "text/latex": [
       "$$\\left[\\begin{matrix}- q^{+}_{1} - q^{+}_{5} - q^{-}_{5} & q^{-}_{1} - q^{+}_{5} & - q^{+}_{5} & - q^{+}_{5}\\\\q^{+}_{1} & - q^{-}_{1} - q^{+}_{2} & q^{-}_{2} & 0\\\\0 & q^{+}_{2} & - q^{-}_{2} - q^{+}_{3} & q^{-}_{3}\\\\- q^{-}_{4} & - q^{-}_{4} & q^{+}_{3} - q^{-}_{4} & - q^{-}_{3} - q^{+}_{4} - q^{-}_{4}\\end{matrix}\\right]$$"
      ],
      "text/plain": [
       "⎡-q⁺₁ - q⁺₅ - q⁻₅  q⁻₁ - q⁺₅      -q⁺₅           -q⁺₅      ⎤\n",
       "⎢                                                          ⎥\n",
       "⎢      q⁺₁         -q⁻₁ - q⁺₂     q⁻₂             0        ⎥\n",
       "⎢                                                          ⎥\n",
       "⎢       0             q⁺₂      -q⁻₂ - q⁺₃        q⁻₃       ⎥\n",
       "⎢                                                          ⎥\n",
       "⎣      -q⁻₄           -q⁻₄     q⁺₃ - q⁻₄   -q⁻₃ - q⁺₄ - q⁻₄⎦"
      ]
     },
     "execution_count": 13,
     "metadata": {},
     "output_type": "execute_result"
    }
   ],
   "source": [
    "M0 = Matrix(( (-(q1p + q5m)-q5p, q1m-q5p,-q5p,-q5p),\n",
    "           (q1p,-(q2p+q1m),q2m,0),\n",
    "          (0,q2p,-(q3p+q2m),q3m),\n",
    "          (-q4m,-q4m,q3p-q4m,-(q4p+q3m)-q4m)\n",
    "            ))\n",
    "M0"
   ]
  },
  {
   "cell_type": "code",
   "execution_count": 14,
   "metadata": {},
   "outputs": [],
   "source": [
    "eigens = simplify(M0.subs(model_rates).eigenvals())\n"
   ]
  },
  {
   "cell_type": "code",
   "execution_count": 15,
   "metadata": {},
   "outputs": [
    {
     "data": {
      "text/plain": [
       "(array([-7.85005605e+07, -1.03749301e+05, -9.65186372e+00, -9.33001994e+06]),\n",
       " array([[-6.27066898e-08,  7.08164904e-01,  4.45607836e-05,\n",
       "         -2.26915109e-08],\n",
       "        [-1.03719940e-06, -7.06046170e-01, -9.99997936e-01,\n",
       "          7.07011281e-01],\n",
       "        [ 8.74196636e-06, -1.12906908e-03, -1.58124837e-03,\n",
       "         -7.07202268e-01],\n",
       "        [-1.00000000e+00, -1.29812155e-06,  1.27522525e-03,\n",
       "         -2.54885234e-05]]))"
      ]
     },
     "execution_count": 15,
     "metadata": {},
     "output_type": "execute_result"
    }
   ],
   "source": [
    "np.linalg.eig(np.array(M0.subs(model_rates)).astype(np.float64))"
   ]
  },
  {
   "cell_type": "code",
   "execution_count": 16,
   "metadata": {},
   "outputs": [
    {
     "data": {
      "image/png": "[encoded data removed]",
      "text/latex": [
       "$$\\left \\{ q^{+}_{1} : 103600.0, \\quad q^{-}_{1} : 0.29461157677020045, \\quad q^{+}_{2} : 14730.57883851002, \\quad q^{-}_{2} : 9312773.36686907, \\quad q^{+}_{3} : 2519.99716601994, \\quad q^{-}_{3} : 604.8, \\quad q^{+}_{4} : 78400000.00000001, \\quad q^{-}_{4} : 99956.4750263324, \\quad q^{+}_{5} : 4.91604240134254, \\quad q^{-}_{5} : 149.0\\right \\}$$"
      ],
      "text/plain": [
       "{q⁺₁: 103600.0, q⁻₁: 0.29461157677020045, q⁺₂: 14730.57883851002, q⁻₂: 9312773\n",
       ".36686907, q⁺₃: 2519.99716601994, q⁻₃: 604.8, q⁺₄: 78400000.00000001, q⁻₄: 999\n",
       "56.4750263324, q⁺₅: 4.91604240134254, q⁻₅: 149.0}"
      ]
     },
     "execution_count": 16,
     "metadata": {},
     "output_type": "execute_result"
    }
   ],
   "source": [
    "model_rates"
   ]
  },
  {
   "cell_type": "code",
   "execution_count": 20,
   "metadata": {},
   "outputs": [
    {
     "data": {
      "image/png": "[encoded data removed]",
      "text/latex": [
       "$$-3.72164234905358$$"
      ],
      "text/plain": [
       "-3.72164234905358"
      ]
     },
     "execution_count": 20,
     "metadata": {},
     "output_type": "execute_result"
    }
   ],
   "source": [
    "J_cyt.subs(Q_inf).subs(model_rates)"
   ]
  },
  {
   "cell_type": "code",
   "execution_count": 21,
   "metadata": {},
   "outputs": [
    {
     "data": {
      "image/png": "[encoded data removed]",
      "text/latex": [
       "$$-3.7216423794016$$"
      ],
      "text/plain": [
       "-3.72164237940160"
      ]
     },
     "execution_count": 21,
     "metadata": {},
     "output_type": "execute_result"
    }
   ],
   "source": [
    "J_er.subs(Q_inf).subs(model_rates)"
   ]
  },
  {
   "cell_type": "code",
   "execution_count": null,
   "metadata": {},
   "outputs": [],
   "source": []
  }
 ],
 "metadata": {
  "kernelspec": {
   "display_name": "Python 3",
   "language": "python",
   "name": "python3"
  },
  "language_info": {
   "codemirror_mode": {
    "name": "ipython",
    "version": 3
   },
   "file_extension": ".py",
   "mimetype": "text/x-python",
   "name": "python",
   "nbconvert_exporter": "python",
   "pygments_lexer": "ipython3",
   "version": "3.7.2"
  }
 },
 "nbformat": 4,
 "nbformat_minor": 2
}
