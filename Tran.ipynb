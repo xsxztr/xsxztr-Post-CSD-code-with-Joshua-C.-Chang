{
 "cells": [
  {
   "cell_type": "code",
   "execution_count": 10,
   "metadata": {},
   "outputs": [],
   "source": [
    "from numpy import sqrt\n",
    "\n",
    "k_p1 = 25900\n",
    "k_p2 = 2540\n",
    "k_p3 = 20.5\n",
    "k_m1 = 2\n",
    "k_m2 = 67200\n",
    "k_m3 = 149\n",
    "kdcai = 0.9\n",
    "kdcasr = 2.24\n",
    "kdh1 = 1.09e-5\n",
    "kdhi = 3.54e-3\n",
    "kdhsr = 1.05e-8\n",
    "kdh = 7.24e-5\n",
    "n = 2\n",
    "Ca_i = 1e-4\n",
    "Ca_sr = .5\n",
    "H_i = 1e-4\n",
    "ATP = 0.01\n",
    "ADP = 20e-3\n",
    "P_i = 1\n",
    "kdatp = k_m1/k_p1\n"
   ]
  },
  {
   "cell_type": "code",
   "execution_count": 11,
   "metadata": {},
   "outputs": [],
   "source": [
    "\n",
    "T_Cai = Ca_i/kdcai\n",
    "T_Casr = Ca_sr/kdcasr\n",
    "T_H1 = H_i/kdh1\n",
    "T_Hi = H_i**n/kdhi\n",
    "T_Hsr = H_i**n/kdhsr\n",
    "T_H = H_i/kdh\n",
    "T_ATP = ATP/kdatp\n",
    "a_p1 = k_p2*T_ATP*sqrt(T_Cai)/(T_ATP*sqrt(T_Cai)+T_Hi*(1+T_ATP*(1+T_H1+sqrt(T_Cai))))\n",
    "a_p2 = k_p3*T_Hsr/(T_Hsr*(1+T_H)+T_H*(1+sqrt(T_Casr)))\n",
    "a_m1 = k_m2*ADP*sqrt(T_Casr)*T_H/(T_Hsr*(1+T_H)+T_H*(1+sqrt(T_Casr)))\n",
    "a_m2 = k_m3*P_i*T_Hi/(T_ATP*sqrt(T_Cai)+T_Hi*(1+T_ATP*(1+T_H1+sqrt(T_Cai))))\n",
    "s2 = a_p1+a_p2+a_m1+a_m2\n",
    "v_cycle = (a_p1*a_p2-a_m1*a_m2)/s2"
   ]
  },
  {
   "cell_type": "code",
   "execution_count": 12,
   "metadata": {},
   "outputs": [
    {
     "data": {
      "text/plain": [
       "4.193643128928569"
      ]
     },
     "execution_count": 12,
     "metadata": {},
     "output_type": "execute_result"
    }
   ],
   "source": [
    "v_cycle"
   ]
  },
  {
   "cell_type": "code",
   "execution_count": null,
   "metadata": {},
   "outputs": [],
   "source": []
  }
 ],
 "metadata": {
  "kernelspec": {
   "display_name": "Python 3",
   "language": "python",
   "name": "python3"
  },
  "language_info": {
   "codemirror_mode": {
    "name": "ipython",
    "version": 3
   },
   "file_extension": ".py",
   "mimetype": "text/x-python",
   "name": "python",
   "nbconvert_exporter": "python",
   "pygments_lexer": "ipython3",
   "version": "3.7.3"
  }
 },
 "nbformat": 4,
 "nbformat_minor": 2
}
